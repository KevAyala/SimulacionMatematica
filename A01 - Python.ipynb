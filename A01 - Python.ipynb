{
 "cells": [
  {
   "cell_type": "markdown",
   "id": "35261069",
   "metadata": {},
   "source": [
    "# Actividad 01 - Python\n",
    "#### Kevin Emiliano Ayala Montoya 745973"
   ]
  },
  {
   "cell_type": "markdown",
   "id": "b5b4d7e8",
   "metadata": {},
   "source": [
    "## 1. Genera una lista de 100 elementos con múltiplos de 3. E.g. [3, 6, 9, ...]"
   ]
  },
  {
   "cell_type": "code",
   "execution_count": 7,
   "id": "31f928a6",
   "metadata": {},
   "outputs": [
    {
     "name": "stdout",
     "output_type": "stream",
     "text": [
      "[3, 6, 9, 12, 15, 18, 21, 24, 27, 30, 33, 36, 39, 42, 45, 48, 51, 54, 57, 60, 63, 66, 69, 72, 75, 78, 81, 84, 87, 90, 93, 96, 99, 102, 105, 108, 111, 114, 117, 120, 123, 126, 129, 132, 135, 138, 141, 144, 147, 150, 153, 156, 159, 162, 165, 168, 171, 174, 177, 180, 183, 186, 189, 192, 195, 198, 201, 204, 207, 210, 213, 216, 219, 222, 225, 228, 231, 234, 237, 240, 243, 246, 249, 252, 255, 258, 261, 264, 267, 270, 273, 276, 279, 282, 285, 288, 291, 294, 297, 300]\n"
     ]
    }
   ],
   "source": [
    "lista = []\n",
    "i = 0\n",
    "\n",
    "while len(lista) < 100:\n",
    "    i += 1\n",
    "    if i % 3 == 0:\n",
    "        lista.append(i)\n",
    "\n",
    "print(lista)"
   ]
  },
  {
   "cell_type": "markdown",
   "id": "1c5495be",
   "metadata": {},
   "source": [
    "## 2. Toma el archivo datosPE.xlsx y calcula el índice de masa corporal de cada persona."
   ]
  },
  {
   "cell_type": "code",
   "execution_count": 1,
   "id": "a91ab93c",
   "metadata": {},
   "outputs": [
    {
     "name": "stdout",
     "output_type": "stream",
     "text": [
      "    ID Persona  Peso  Estatura        IMC\n",
      "0            1    67      1.41  33.700518\n",
      "1            2    99      1.83  29.561946\n",
      "2            3    86      1.90  23.822715\n",
      "3            4   118      1.65  43.342516\n",
      "4            5   109      1.67  39.083510\n",
      "..         ...   ...       ...        ...\n",
      "95          96    88      1.49  39.637854\n",
      "96          97    98      1.54  41.322314\n",
      "97          98    95      1.57  38.541117\n",
      "98          99    61      1.61  23.533043\n",
      "99         100   107      1.62  40.771224\n",
      "\n",
      "[100 rows x 4 columns]\n"
     ]
    }
   ],
   "source": [
    "import pandas as pd\n",
    "data = pd.read_excel(\"datosPE.xlsx\")\n",
    "data[\"IMC\"] = (data[\"Peso\"])/(data[\"Estatura\"]**2)\n",
    "print(data)"
   ]
  },
  {
   "cell_type": "markdown",
   "id": "5d061114",
   "metadata": {},
   "source": [
    "## 3. Toma el archivo datosCT.xlsx y\n",
    "### a) Calcula la Utilidad (Ingreso - Gasto)"
   ]
  },
  {
   "cell_type": "code",
   "execution_count": 5,
   "id": "d15192a8",
   "metadata": {},
   "outputs": [
    {
     "name": "stdout",
     "output_type": "stream",
     "text": [
      "    Unnamed: 0  Ingreso  Gasto  Utilidad\n",
      "0        Enero     1340   1880      -540\n",
      "1      Febrero     2590   3130      -540\n",
      "2        Marzo     3570   2140      1430\n",
      "3        Abril     4450   3370      1080\n",
      "4         Mayo     1330   2990     -1660\n",
      "5        Junio     1610   1970      -360\n",
      "6        Julio     1500   2230      -730\n",
      "7       Agosto     2270   1240      1030\n",
      "8   Septiembre     1910   1470       440\n",
      "9      Octubre     2120   2280      -160\n",
      "10   Noviembre     3950   1870      2080\n",
      "11   Diciembre     1380   3140     -1760\n"
     ]
    }
   ],
   "source": [
    "import pandas as pd\n",
    "data2 = pd.read_excel(\"datosCT.xlsx\")\n",
    "data2[\"Utilidad\"] = data2[\"Ingreso\"] - data2[\"Gasto\"]\n",
    "print(data2)"
   ]
  },
  {
   "cell_type": "markdown",
   "id": "fa5c54e1",
   "metadata": {},
   "source": [
    "### b) Encuentra el promedio de Gastos en los meses que la Utilidad fue negativa"
   ]
  },
  {
   "cell_type": "code",
   "execution_count": 6,
   "id": "2b7d613c",
   "metadata": {},
   "outputs": [
    {
     "name": "stdout",
     "output_type": "stream",
     "text": [
      "El promedio de los meses en la que la utilidad fue negativa es de -821.4285714285714\n"
     ]
    }
   ],
   "source": [
    "suma = 0\n",
    "elementos = 0\n",
    "for U in data2[\"Utilidad\"]:\n",
    "    if U < 0:\n",
    "        suma += U\n",
    "        elementos += 1\n",
    "promedio = suma / elementos\n",
    "print(\"El promedio de los meses en la que la utilidad fue negativa es de {0}\".format(promedio))"
   ]
  },
  {
   "cell_type": "markdown",
   "id": "2004d028",
   "metadata": {},
   "source": [
    "### c) Encuentra los ingresos totales del año"
   ]
  },
  {
   "cell_type": "code",
   "execution_count": 14,
   "id": "982f2f9a",
   "metadata": {},
   "outputs": [
    {
     "name": "stdout",
     "output_type": "stream",
     "text": [
      "Los ingresos totales del año fue $28020\n"
     ]
    }
   ],
   "source": [
    "ingresos_totales = data2[\"Ingreso\"].sum()\n",
    "print(\"Los ingresos totales del año fue ${}\".format(ingresos_totales))"
   ]
  },
  {
   "cell_type": "code",
   "execution_count": null,
   "id": "24af285a",
   "metadata": {},
   "outputs": [],
   "source": []
  },
  {
   "cell_type": "code",
   "execution_count": null,
   "id": "f1b1183b",
   "metadata": {},
   "outputs": [],
   "source": []
  }
 ],
 "metadata": {
  "kernelspec": {
   "display_name": "Python 3 (ipykernel)",
   "language": "python",
   "name": "python3"
  },
  "language_info": {
   "codemirror_mode": {
    "name": "ipython",
    "version": 3
   },
   "file_extension": ".py",
   "mimetype": "text/x-python",
   "name": "python",
   "nbconvert_exporter": "python",
   "pygments_lexer": "ipython3",
   "version": "3.9.13"
  }
 },
 "nbformat": 4,
 "nbformat_minor": 5
}
